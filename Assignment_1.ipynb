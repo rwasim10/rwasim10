{
  "nbformat": 4,
  "nbformat_minor": 0,
  "metadata": {
    "colab": {
      "provenance": [],
      "authorship_tag": "ABX9TyP5aIKAA82ABZqvzzDMNvbY",
      "include_colab_link": true
    },
    "kernelspec": {
      "name": "python3",
      "display_name": "Python 3"
    },
    "language_info": {
      "name": "python"
    }
  },
  "cells": [
    {
      "cell_type": "markdown",
      "metadata": {
        "id": "view-in-github",
        "colab_type": "text"
      },
      "source": [
        "<a href=\"https://colab.research.google.com/github/rwasim10/rwasim10/blob/main/Assignment_1.ipynb\" target=\"_parent\"><img src=\"https://colab.research.google.com/assets/colab-badge.svg\" alt=\"Open In Colab\"/></a>"
      ]
    },
    {
      "cell_type": "markdown",
      "source": [
        "## **Print Hello World in 5 different methods then,**\n",
        "\n",
        "\n",
        "\n",
        "\n",
        "\n"
      ],
      "metadata": {
        "id": "_4Ni-zod1itT"
      }
    },
    {
      "cell_type": "markdown",
      "source": [
        "\n",
        "Method 1: Using the print() function"
      ],
      "metadata": {
        "id": "PrONtPlh66os"
      }
    },
    {
      "cell_type": "code",
      "source": [
        "print(\"Hello World\")"
      ],
      "metadata": {
        "colab": {
          "base_uri": "https://localhost:8080/",
          "height": 0
        },
        "id": "K7scmWxV1l5F",
        "outputId": "d9f9d5b2-4954-458c-ed6f-426a131232cc"
      },
      "execution_count": 17,
      "outputs": [
        {
          "output_type": "stream",
          "name": "stdout",
          "text": [
            "Hello World\n"
          ]
        }
      ]
    },
    {
      "cell_type": "markdown",
      "source": [
        "Method 2: Using sys.stdout.write()"
      ],
      "metadata": {
        "id": "9P02-6rH1rez"
      }
    },
    {
      "cell_type": "code",
      "source": [
        "import sys\n",
        "sys.stdout.write(\"Hello World\\n\")"
      ],
      "metadata": {
        "colab": {
          "base_uri": "https://localhost:8080/",
          "height": 0
        },
        "id": "rmtQ0yyQ1s38",
        "outputId": "4a05b0c3-a30a-4493-ffb2-a3ab32c79853"
      },
      "execution_count": 18,
      "outputs": [
        {
          "output_type": "stream",
          "name": "stdout",
          "text": [
            "Hello World\n"
          ]
        }
      ]
    },
    {
      "cell_type": "markdown",
      "source": [
        "Method 3:  Using a custom function"
      ],
      "metadata": {
        "id": "xsOZ2o681xg4"
      }
    },
    {
      "cell_type": "code",
      "source": [
        "def print_hello_world():\n",
        "    message = \"Hello World\"\n",
        "    print(message)\n",
        "\n",
        "print_hello_world()"
      ],
      "metadata": {
        "colab": {
          "base_uri": "https://localhost:8080/",
          "height": 0
        },
        "id": "5pppXCLi1ymg",
        "outputId": "79edd813-caf7-4b9e-81fe-38c61ab8b40d"
      },
      "execution_count": 19,
      "outputs": [
        {
          "output_type": "stream",
          "name": "stdout",
          "text": [
            "Hello World\n"
          ]
        }
      ]
    },
    {
      "cell_type": "markdown",
      "source": [
        "Method 4: Using f-string"
      ],
      "metadata": {
        "id": "OLo0FrY719gh"
      }
    },
    {
      "cell_type": "code",
      "source": [
        "message = \"Hello World\"\n",
        "print(f\"{message}\")"
      ],
      "metadata": {
        "colab": {
          "base_uri": "https://localhost:8080/",
          "height": 0
        },
        "id": "KtIhqpre1-O9",
        "outputId": "5a286383-98ba-47ed-b707-4f60844a572a"
      },
      "execution_count": 20,
      "outputs": [
        {
          "output_type": "stream",
          "name": "stdout",
          "text": [
            "Hello World\n"
          ]
        }
      ]
    },
    {
      "cell_type": "markdown",
      "source": [
        "Method 5: Using string concatenation"
      ],
      "metadata": {
        "id": "1CUOSewF2Fxi"
      }
    },
    {
      "cell_type": "code",
      "source": [
        "message = \"Hello \" + \"World\"\n",
        "print(message)"
      ],
      "metadata": {
        "colab": {
          "base_uri": "https://localhost:8080/",
          "height": 0
        },
        "id": "dm17gjO62HM1",
        "outputId": "7a1a370c-8a49-488e-9c70-a98177bc4760"
      },
      "execution_count": 21,
      "outputs": [
        {
          "output_type": "stream",
          "name": "stdout",
          "text": [
            "Hello World\n"
          ]
        }
      ]
    }
  ]
}