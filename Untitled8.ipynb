{
  "nbformat": 4,
  "nbformat_minor": 0,
  "metadata": {
    "colab": {
      "provenance": [],
      "authorship_tag": "ABX9TyM7yhFeBAfItppc9JmPiw0U",
      "include_colab_link": true
    },
    "kernelspec": {
      "name": "python3",
      "display_name": "Python 3"
    },
    "language_info": {
      "name": "python"
    }
  },
  "cells": [
    {
      "cell_type": "markdown",
      "metadata": {
        "id": "view-in-github",
        "colab_type": "text"
      },
      "source": [
        "<a href=\"https://colab.research.google.com/github/rwasim10/rwasim10/blob/main/Untitled8.ipynb\" target=\"_parent\"><img src=\"https://colab.research.google.com/assets/colab-badge.svg\" alt=\"Open In Colab\"/></a>"
      ]
    },
    {
      "cell_type": "code",
      "source": [],
      "metadata": {
        "id": "-c7JuWQZ4sm6"
      },
      "execution_count": null,
      "outputs": []
    },
    {
      "cell_type": "markdown",
      "source": [
        "# Class 5 DS Batch V"
      ],
      "metadata": {
        "id": "KiaiYCQ-9xuU"
      }
    },
    {
      "cell_type": "markdown",
      "source": [
        "# List Data Type"
      ],
      "metadata": {
        "id": "-ZUDLUVq44AW"
      }
    },
    {
      "cell_type": "code",
      "source": [
        "s1_name = \"Rohaan\"\n",
        "s2_name = \"Sherry\"\n",
        "s3_name = \"ali\""
      ],
      "metadata": {
        "id": "AP6iQzlx4-lG"
      },
      "execution_count": 3,
      "outputs": []
    },
    {
      "cell_type": "code",
      "source": [
        "print(s1_name)\n",
        "print(s2_name)\n",
        "print(s3_name)"
      ],
      "metadata": {
        "colab": {
          "base_uri": "https://localhost:8080/"
        },
        "id": "saTDONsv_PkN",
        "outputId": "25e0bf7f-e415-494a-a14e-628b63e142b4"
      },
      "execution_count": 5,
      "outputs": [
        {
          "output_type": "stream",
          "name": "stdout",
          "text": [
            "Rohaan\n",
            "Sherry\n",
            "ali\n"
          ]
        }
      ]
    },
    {
      "cell_type": "code",
      "source": [],
      "metadata": {
        "colab": {
          "base_uri": "https://localhost:8080/",
          "height": 140
        },
        "id": "sMg8ztMD_e6X",
        "outputId": "f3817fa2-2181-47f9-8ef9-92004d77c90e"
      },
      "execution_count": 11,
      "outputs": [
        {
          "output_type": "error",
          "ename": "SyntaxError",
          "evalue": "ignored",
          "traceback": [
            "\u001b[0;36m  File \u001b[0;32m\"<ipython-input-11-8338203105f0>\"\u001b[0;36m, line \u001b[0;32m1\u001b[0m\n\u001b[0;31m    syntax:\u001b[0m\n\u001b[0m           ^\u001b[0m\n\u001b[0;31mSyntaxError\u001b[0m\u001b[0;31m:\u001b[0m invalid syntax\n"
          ]
        }
      ]
    },
    {
      "cell_type": "markdown",
      "source": [
        "syntax\n",
        "\n",
        "[element1, element2, element3, ...]"
      ],
      "metadata": {
        "id": "eI_dDiONExQs"
      }
    },
    {
      "cell_type": "markdown",
      "source": [],
      "metadata": {
        "id": "-t7_vghmCi43"
      }
    },
    {
      "cell_type": "code",
      "source": [
        "name = [\"Rohaan\", \"Sherry\", \"Ali\"]\n",
        "names"
      ],
      "metadata": {
        "colab": {
          "base_uri": "https://localhost:8080/",
          "height": 193
        },
        "id": "qBUITAKzDc85",
        "outputId": "7f178804-a0d2-4fb1-fa36-ef5a6a25be44"
      },
      "execution_count": 12,
      "outputs": [
        {
          "output_type": "error",
          "ename": "NameError",
          "evalue": "ignored",
          "traceback": [
            "\u001b[0;31m---------------------------------------------------------------------------\u001b[0m",
            "\u001b[0;31mNameError\u001b[0m                                 Traceback (most recent call last)",
            "\u001b[0;32m<ipython-input-12-dd099b407d76>\u001b[0m in \u001b[0;36m<cell line: 2>\u001b[0;34m()\u001b[0m\n\u001b[1;32m      1\u001b[0m \u001b[0mname\u001b[0m \u001b[0;34m=\u001b[0m \u001b[0;34m[\u001b[0m\u001b[0;34m\"Rohaan\"\u001b[0m\u001b[0;34m,\u001b[0m \u001b[0;34m\"Sherry\"\u001b[0m\u001b[0;34m,\u001b[0m \u001b[0;34m\"Ali\"\u001b[0m\u001b[0;34m]\u001b[0m\u001b[0;34m\u001b[0m\u001b[0;34m\u001b[0m\u001b[0m\n\u001b[0;32m----> 2\u001b[0;31m \u001b[0mnames\u001b[0m\u001b[0;34m\u001b[0m\u001b[0;34m\u001b[0m\u001b[0m\n\u001b[0m",
            "\u001b[0;31mNameError\u001b[0m: name 'names' is not defined"
          ]
        }
      ]
    },
    {
      "cell_type": "code",
      "source": [],
      "metadata": {
        "id": "afFiHXUTCgVO"
      },
      "execution_count": null,
      "outputs": []
    },
    {
      "cell_type": "markdown",
      "source": [
        "##Extract Value from iterative data type\n",
        "Syntax: '''"
      ],
      "metadata": {
        "id": "p_PFEDAjF74b"
      }
    },
    {
      "cell_type": "code",
      "source": [
        "names1 = input(\"please insert with ',' seprated: \")\n",
        "\n",
        "names1.split(\",\")"
      ],
      "metadata": {
        "colab": {
          "base_uri": "https://localhost:8080/"
        },
        "id": "TfuEtxbxGMyf",
        "outputId": "347588cd-3502-4051-fc63-8365479e59e2"
      },
      "execution_count": 13,
      "outputs": [
        {
          "name": "stdout",
          "output_type": "stream",
          "text": [
            "please insert with ',' seprated: Rohaan, sherry, Ali\n"
          ]
        },
        {
          "output_type": "execute_result",
          "data": {
            "text/plain": [
              "['Rohaan', ' sherry', ' Ali']"
            ]
          },
          "metadata": {},
          "execution_count": 13
        }
      ]
    },
    {
      "cell_type": "code",
      "source": [
        "# ->        0           1        3\n",
        "names = [\"Rohaan\" , \"Sherry\" , \"Ali\"]\n",
        "# <-        -3         -2        -1\n",
        "print(names[1])\n",
        "print(names[-3])"
      ],
      "metadata": {
        "colab": {
          "base_uri": "https://localhost:8080/"
        },
        "id": "_GkChRlTGx2J",
        "outputId": "1d5527ea-8502-460f-9747-2a792aa04a0e"
      },
      "execution_count": 14,
      "outputs": [
        {
          "output_type": "stream",
          "name": "stdout",
          "text": [
            "Sherry\n",
            "Rohaan\n"
          ]
        }
      ]
    },
    {
      "cell_type": "code",
      "source": [],
      "metadata": {
        "id": "t7qC-kQ1K7fR"
      },
      "execution_count": null,
      "outputs": []
    },
    {
      "cell_type": "markdown",
      "source": [
        "#slicing on *list*\n",
        "syntax: '''List_variable[starts:end:step]'''\n",
        "* start = this number will be included\n",
        "* end = excluded end-1\n",
        "*step = sequence/gap"
      ],
      "metadata": {
        "id": "1lenM1d7LSuu"
      }
    },
    {
      "cell_type": "code",
      "source": [],
      "metadata": {
        "id": "EvCyI1LgL5kz"
      },
      "execution_count": null,
      "outputs": []
    }
  ]
}