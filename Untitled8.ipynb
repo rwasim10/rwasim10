{
  "nbformat": 4,
  "nbformat_minor": 0,
  "metadata": {
    "colab": {
      "provenance": [],
      "authorship_tag": "ABX9TyPA01SWGKzb/RDvRsagW9mt",
      "include_colab_link": true
    },
    "kernelspec": {
      "name": "python3",
      "display_name": "Python 3"
    },
    "language_info": {
      "name": "python"
    }
  },
  "cells": [
    {
      "cell_type": "markdown",
      "metadata": {
        "id": "view-in-github",
        "colab_type": "text"
      },
      "source": [
        "<a href=\"https://colab.research.google.com/github/rwasim10/rwasim10/blob/main/Untitled8.ipynb\" target=\"_parent\"><img src=\"https://colab.research.google.com/assets/colab-badge.svg\" alt=\"Open In Colab\"/></a>"
      ]
    },
    {
      "cell_type": "code",
      "source": [],
      "metadata": {
        "id": "-c7JuWQZ4sm6"
      },
      "execution_count": null,
      "outputs": []
    },
    {
      "cell_type": "markdown",
      "source": [
        "# Class 5 DS Batch V"
      ],
      "metadata": {
        "id": "KiaiYCQ-9xuU"
      }
    },
    {
      "cell_type": "markdown",
      "source": [
        "# List Data Type"
      ],
      "metadata": {
        "id": "-ZUDLUVq44AW"
      }
    },
    {
      "cell_type": "code",
      "source": [
        "s1_name = \"Rohaan\"\n",
        "s2_name = \"Sherry\"\n",
        "s3_name = \"ali\""
      ],
      "metadata": {
        "id": "AP6iQzlx4-lG"
      },
      "execution_count": null,
      "outputs": []
    },
    {
      "cell_type": "code",
      "source": [
        "print(s1_name)\n",
        "print(s2_name)\n",
        "print(s3_name)"
      ],
      "metadata": {
        "colab": {
          "base_uri": "https://localhost:8080/"
        },
        "id": "saTDONsv_PkN",
        "outputId": "25e0bf7f-e415-494a-a14e-628b63e142b4"
      },
      "execution_count": null,
      "outputs": [
        {
          "output_type": "stream",
          "name": "stdout",
          "text": [
            "Rohaan\n",
            "Sherry\n",
            "ali\n"
          ]
        }
      ]
    },
    {
      "cell_type": "code",
      "source": [],
      "metadata": {
        "colab": {
          "base_uri": "https://localhost:8080/",
          "height": 140
        },
        "id": "sMg8ztMD_e6X",
        "outputId": "f3817fa2-2181-47f9-8ef9-92004d77c90e"
      },
      "execution_count": null,
      "outputs": [
        {
          "output_type": "error",
          "ename": "SyntaxError",
          "evalue": "ignored",
          "traceback": [
            "\u001b[0;36m  File \u001b[0;32m\"<ipython-input-11-8338203105f0>\"\u001b[0;36m, line \u001b[0;32m1\u001b[0m\n\u001b[0;31m    syntax:\u001b[0m\n\u001b[0m           ^\u001b[0m\n\u001b[0;31mSyntaxError\u001b[0m\u001b[0;31m:\u001b[0m invalid syntax\n"
          ]
        }
      ]
    },
    {
      "cell_type": "markdown",
      "source": [
        "syntax\n",
        "\n",
        "[element1, element2, element3, ...]"
      ],
      "metadata": {
        "id": "eI_dDiONExQs"
      }
    },
    {
      "cell_type": "markdown",
      "source": [],
      "metadata": {
        "id": "-t7_vghmCi43"
      }
    },
    {
      "cell_type": "code",
      "source": [
        "name = [\"Rohaan\", \"Sherry\", \"Ali\"]\n",
        "names"
      ],
      "metadata": {
        "colab": {
          "base_uri": "https://localhost:8080/",
          "height": 193
        },
        "id": "qBUITAKzDc85",
        "outputId": "7f178804-a0d2-4fb1-fa36-ef5a6a25be44"
      },
      "execution_count": null,
      "outputs": [
        {
          "output_type": "error",
          "ename": "NameError",
          "evalue": "ignored",
          "traceback": [
            "\u001b[0;31m---------------------------------------------------------------------------\u001b[0m",
            "\u001b[0;31mNameError\u001b[0m                                 Traceback (most recent call last)",
            "\u001b[0;32m<ipython-input-12-dd099b407d76>\u001b[0m in \u001b[0;36m<cell line: 2>\u001b[0;34m()\u001b[0m\n\u001b[1;32m      1\u001b[0m \u001b[0mname\u001b[0m \u001b[0;34m=\u001b[0m \u001b[0;34m[\u001b[0m\u001b[0;34m\"Rohaan\"\u001b[0m\u001b[0;34m,\u001b[0m \u001b[0;34m\"Sherry\"\u001b[0m\u001b[0;34m,\u001b[0m \u001b[0;34m\"Ali\"\u001b[0m\u001b[0;34m]\u001b[0m\u001b[0;34m\u001b[0m\u001b[0;34m\u001b[0m\u001b[0m\n\u001b[0;32m----> 2\u001b[0;31m \u001b[0mnames\u001b[0m\u001b[0;34m\u001b[0m\u001b[0;34m\u001b[0m\u001b[0m\n\u001b[0m",
            "\u001b[0;31mNameError\u001b[0m: name 'names' is not defined"
          ]
        }
      ]
    },
    {
      "cell_type": "code",
      "source": [],
      "metadata": {
        "id": "afFiHXUTCgVO"
      },
      "execution_count": null,
      "outputs": []
    },
    {
      "cell_type": "markdown",
      "source": [
        "##Extract Value from iterative data type\n",
        "Syntax: '''"
      ],
      "metadata": {
        "id": "p_PFEDAjF74b"
      }
    },
    {
      "cell_type": "code",
      "source": [
        "names1 = input(\"please insert with ',' seprated: \")\n",
        "\n",
        "names1.split(\",\")"
      ],
      "metadata": {
        "colab": {
          "base_uri": "https://localhost:8080/"
        },
        "id": "TfuEtxbxGMyf",
        "outputId": "347588cd-3502-4051-fc63-8365479e59e2"
      },
      "execution_count": null,
      "outputs": [
        {
          "name": "stdout",
          "output_type": "stream",
          "text": [
            "please insert with ',' seprated: Rohaan, sherry, Ali\n"
          ]
        },
        {
          "output_type": "execute_result",
          "data": {
            "text/plain": [
              "['Rohaan', ' sherry', ' Ali']"
            ]
          },
          "metadata": {},
          "execution_count": 13
        }
      ]
    },
    {
      "cell_type": "code",
      "source": [
        "# ->        0           1        3\n",
        "names = [\"Rohaan\" , \"Sherry\" , \"Ali\"]\n",
        "# <-        -3         -2        -1\n",
        "print(names[1])\n",
        "print(names[-3])"
      ],
      "metadata": {
        "colab": {
          "base_uri": "https://localhost:8080/"
        },
        "id": "_GkChRlTGx2J",
        "outputId": "1d5527ea-8502-460f-9747-2a792aa04a0e"
      },
      "execution_count": null,
      "outputs": [
        {
          "output_type": "stream",
          "name": "stdout",
          "text": [
            "Sherry\n",
            "Rohaan\n"
          ]
        }
      ]
    },
    {
      "cell_type": "code",
      "source": [],
      "metadata": {
        "id": "t7qC-kQ1K7fR"
      },
      "execution_count": null,
      "outputs": []
    },
    {
      "cell_type": "markdown",
      "source": [
        "#slicing on *list*\n",
        "syntax: '''List_variable[starts:end:step]'''\n",
        "* start = this number will be included\n",
        "* end = excluded end-1\n",
        "*step = sequence/gap"
      ],
      "metadata": {
        "id": "1lenM1d7LSuu"
      }
    },
    {
      "cell_type": "code",
      "source": [
        "characters = list(\"abcdefghijklmnopqrstuvwxyz\")\n",
        "print(characters)\n",
        "\n",
        "counter = 0\n",
        "\n",
        "while(counter < len(characters)):\n",
        "  print(characters[counter])\n",
        "  counter += 2\n",
        "\n"
      ],
      "metadata": {
        "id": "EvCyI1LgL5kz",
        "colab": {
          "base_uri": "https://localhost:8080/"
        },
        "outputId": "f3d9f80b-f1aa-4785-f132-0d46a4cc38c3"
      },
      "execution_count": 4,
      "outputs": [
        {
          "output_type": "stream",
          "name": "stdout",
          "text": [
            "['a', 'b', 'c', 'd', 'e', 'f', 'g', 'h', 'i', 'j', 'k', 'l', 'm', 'n', 'o', 'p', 'q', 'r', 's', 't', 'u', 'v', 'w', 'x', 'y', 'z']\n",
            "a\n",
            "c\n",
            "e\n",
            "g\n",
            "i\n",
            "k\n",
            "m\n",
            "o\n",
            "q\n",
            "s\n",
            "u\n",
            "w\n",
            "y\n"
          ]
        }
      ]
    },
    {
      "cell_type": "code",
      "source": [
        "a = list(range(1,11))\n",
        "\n",
        "print(a)\n",
        "print(a[::])\n",
        "print(a[::])\n",
        "print(a[-7:])\n"
      ],
      "metadata": {
        "colab": {
          "base_uri": "https://localhost:8080/"
        },
        "id": "PoYUVRR4_u70",
        "outputId": "193a531a-5db9-44b5-e930-dfac35ea8aea"
      },
      "execution_count": 14,
      "outputs": [
        {
          "output_type": "stream",
          "name": "stdout",
          "text": [
            "[1, 2, 3, 4, 5, 6, 7, 8, 9, 10]\n",
            "[1, 2, 3, 4, 5, 6, 7, 8, 9, 10]\n",
            "[1, 2, 3, 4, 5, 6, 7, 8, 9, 10]\n",
            "[4, 5, 6, 7, 8, 9, 10]\n"
          ]
        }
      ]
    },
    {
      "cell_type": "code",
      "source": [
        "a = list(range(1,11))\n",
        "print(a)\n",
        "print(a[: -1])\n",
        "print(a[-5:-10:-1])\n",
        "print(a[-5:-2:])\n"
      ],
      "metadata": {
        "colab": {
          "base_uri": "https://localhost:8080/"
        },
        "id": "m7BbZ_Tc-4Ln",
        "outputId": "a8a0087d-37c9-40a0-84ad-eeb5446fd892"
      },
      "execution_count": 19,
      "outputs": [
        {
          "output_type": "stream",
          "name": "stdout",
          "text": [
            "[1, 2, 3, 4, 5, 6, 7, 8, 9, 10]\n",
            "[1, 2, 3, 4, 5, 6, 7, 8, 9]\n",
            "[6, 5, 4, 3, 2]\n",
            "[6, 7, 8]\n"
          ]
        }
      ]
    },
    {
      "cell_type": "code",
      "source": [
        "import numpy as np\n",
        "\n",
        "a = np.arange(1,101).reshape(10,10).tolist()\n",
        "a"
      ],
      "metadata": {
        "colab": {
          "base_uri": "https://localhost:8080/"
        },
        "id": "4Jnc6B9PLcrA",
        "outputId": "723e7cc9-79c9-4ef0-a013-73f8a4275c0f"
      },
      "execution_count": 22,
      "outputs": [
        {
          "output_type": "execute_result",
          "data": {
            "text/plain": [
              "[[1, 2, 3, 4, 5, 6, 7, 8, 9, 10],\n",
              " [11, 12, 13, 14, 15, 16, 17, 18, 19, 20],\n",
              " [21, 22, 23, 24, 25, 26, 27, 28, 29, 30],\n",
              " [31, 32, 33, 34, 35, 36, 37, 38, 39, 40],\n",
              " [41, 42, 43, 44, 45, 46, 47, 48, 49, 50],\n",
              " [51, 52, 53, 54, 55, 56, 57, 58, 59, 60],\n",
              " [61, 62, 63, 64, 65, 66, 67, 68, 69, 70],\n",
              " [71, 72, 73, 74, 75, 76, 77, 78, 79, 80],\n",
              " [81, 82, 83, 84, 85, 86, 87, 88, 89, 90],\n",
              " [91, 92, 93, 94, 95, 96, 97, 98, 99, 100]]"
            ]
          },
          "metadata": {},
          "execution_count": 22
        }
      ]
    },
    {
      "cell_type": "code",
      "source": [
        "a = list(range(1,11))\n",
        "print(a)"
      ],
      "metadata": {
        "colab": {
          "base_uri": "https://localhost:8080/"
        },
        "id": "294SaWOUMmhf",
        "outputId": "a4dfda46-7d42-4374-c520-9154dc15f726"
      },
      "execution_count": 25,
      "outputs": [
        {
          "output_type": "stream",
          "name": "stdout",
          "text": [
            "[1, 2, 3, 4, 5, 6, 7, 8, 9, 10]\n"
          ]
        }
      ]
    },
    {
      "cell_type": "code",
      "source": [
        "for i in ['hamza','asif','ali']:\n",
        "    print(i)"
      ],
      "metadata": {
        "colab": {
          "base_uri": "https://localhost:8080/"
        },
        "id": "srfd04MDPg_F",
        "outputId": "234f456b-df4c-4138-9a33-d4b8b9fbd47c"
      },
      "execution_count": 28,
      "outputs": [
        {
          "output_type": "stream",
          "name": "stdout",
          "text": [
            "hamza\n",
            "asif\n",
            "ali\n"
          ]
        }
      ]
    },
    {
      "cell_type": "code",
      "source": [
        "[i for i in dir(a) if \"_\" not in i]"
      ],
      "metadata": {
        "colab": {
          "base_uri": "https://localhost:8080/"
        },
        "id": "VbpRvP8aOZ-1",
        "outputId": "69659103-8c86-4b10-e20c-ca461836211b"
      },
      "execution_count": 30,
      "outputs": [
        {
          "output_type": "execute_result",
          "data": {
            "text/plain": [
              "['append',\n",
              " 'clear',\n",
              " 'copy',\n",
              " 'count',\n",
              " 'extend',\n",
              " 'index',\n",
              " 'insert',\n",
              " 'pop',\n",
              " 'remove',\n",
              " 'reverse',\n",
              " 'sort']"
            ]
          },
          "metadata": {},
          "execution_count": 30
        }
      ]
    },
    {
      "cell_type": "code",
      "source": [
        "names = []\n",
        "print (names)\n",
        "names.append(\"Rohaan\")\n",
        "print(names)"
      ],
      "metadata": {
        "colab": {
          "base_uri": "https://localhost:8080/"
        },
        "id": "yl8BIxotQgdG",
        "outputId": "dda1ca97-35d3-4fa5-ccc3-d0f75ed0b825"
      },
      "execution_count": 33,
      "outputs": [
        {
          "output_type": "stream",
          "name": "stdout",
          "text": [
            "[]\n",
            "['Rohaan']\n"
          ]
        }
      ]
    },
    {
      "cell_type": "code",
      "source": [
        "names"
      ],
      "metadata": {
        "colab": {
          "base_uri": "https://localhost:8080/"
        },
        "id": "9L6cW1uNSOpW",
        "outputId": "afa67ef2-4fbf-480f-effa-46b18b25f3b3"
      },
      "execution_count": 34,
      "outputs": [
        {
          "output_type": "execute_result",
          "data": {
            "text/plain": [
              "['Rohaan']"
            ]
          },
          "metadata": {},
          "execution_count": 34
        }
      ]
    },
    {
      "cell_type": "code",
      "source": [
        "names.append(['111'])\n",
        "print(names)"
      ],
      "metadata": {
        "colab": {
          "base_uri": "https://localhost:8080/"
        },
        "id": "u3K-PdMPS95O",
        "outputId": "e53dfd02-0654-4ff6-e096-38184ecda119"
      },
      "execution_count": 36,
      "outputs": [
        {
          "output_type": "stream",
          "name": "stdout",
          "text": [
            "['Rohaan', ['111'], ['111']]\n"
          ]
        }
      ]
    },
    {
      "cell_type": "code",
      "source": [
        "names.index(\"Rohaan\")"
      ],
      "metadata": {
        "colab": {
          "base_uri": "https://localhost:8080/"
        },
        "id": "ZMqOZwFBVS7x",
        "outputId": "5de0c5e2-d88a-4af5-ddc3-bf8d0da0edbb"
      },
      "execution_count": 37,
      "outputs": [
        {
          "output_type": "execute_result",
          "data": {
            "text/plain": [
              "0"
            ]
          },
          "metadata": {},
          "execution_count": 37
        }
      ]
    },
    {
      "cell_type": "code",
      "source": [
        "names.insert(0,\"Eman\")\n",
        "print(names)"
      ],
      "metadata": {
        "colab": {
          "base_uri": "https://localhost:8080/"
        },
        "id": "XsRQxvtgWBDT",
        "outputId": "63a506e7-f3fa-4c00-e9ca-a7e2db40997b"
      },
      "execution_count": 39,
      "outputs": [
        {
          "output_type": "stream",
          "name": "stdout",
          "text": [
            "['Eman', 'Eman', 'Rohaan', ['111'], ['111']]\n"
          ]
        }
      ]
    },
    {
      "cell_type": "code",
      "source": [],
      "metadata": {
        "id": "mNnevlLKWyvK"
      },
      "execution_count": null,
      "outputs": []
    }
  ]
}