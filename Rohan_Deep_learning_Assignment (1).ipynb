{
 "cells": [
  {
   "cell_type": "markdown",
   "id": "9f9e6c8d-0372-4d19-9480-88fc5e5d5fac",
   "metadata": {},
   "source": [
    "Part 1: Exploring Topics\n",
    "1. Gradient Descent & Types of Gradient Descent\n",
    "Gradient Descent is an optimization algorithm used to minimize a function, typically the loss function in machine learning. It works by iteratively adjusting the parameters of the model to minimize the loss.\n",
    "\n",
    "Types of Gradient Descent:"
   ]
  },
  {
   "cell_type": "markdown",
   "id": "0bc1f947-81ea-4730-990a-b7521e088873",
   "metadata": {},
   "source": [
    "Types of Gradient Descent:\n",
    "\n",
    "Batch Gradient Descent:\n",
    "\n",
    "Description: Uses the entire dataset to compute the gradient of the loss function with respect to the parameters. This means that the model parameters are updated only once per epoch.\n",
    "Pros: Converges to the optimal solution as long as the learning rate is set appropriately.\n",
    "Cons: Can be computationally expensive and slow for large datasets because it requires the whole dataset to be loaded into memory.\n"
   ]
  },
  {
   "cell_type": "markdown",
   "id": "7279645f-2d60-43a9-9a5c-4698f56a8ef3",
   "metadata": {},
   "source": [
    "Stochastic Gradient Descent (SGD):\n",
    "\n",
    "Description: Uses a single sample (or a small subset) to compute the gradient and update the parameters. This process is repeated for each sample in the dataset.\n",
    "Pros: Faster updates and can escape local minima. It can be more efficient for large datasets.\n",
    "Cons: The updates can be noisy and may lead to convergence issues, requiring careful tuning of learning rates.\n",
    "Mini-batch Gradient Descent:\n",
    "\n",
    "Description: A compromise between batch and stochastic gradient descent. It uses a small subset (mini-batch) of the dataset to compute the gradient and update the parameters.\n",
    "Pros: Balances the efficiency of SGD with the stability of batch gradient descent. It is often faster and more efficient than both pure batch and pure stochastic gradient descent.\n",
    "Cons: The choice of mini-batch size can impact the performance and convergence.\n",
    "2. Validation Set & Validation Loss\n",
    "Validation Set:\n",
    "\n",
    "Description: A subset of the dataset that is used to evaluate the performance of a model during training. It is separate from the training set and helps in assessing how well the model generalizes to unseen data.\n",
    "Purpose: Helps in tuning model hyperparameters and preventing overfitting by providing a check on the model’s performance.\n",
    "\n",
    "Validation Loss:\n",
    "\n",
    "Description: The loss value computed on the validation set. It provides a measure of how well the model is performing on data that it hasn't been trained on.\n",
    "Purpose: Used to monitor the model's performance during training. If the validation loss starts increasing while the training loss decreases, it may indicate overfitting."
   ]
  },
  {
   "cell_type": "markdown",
   "id": "f4dde772-9aa7-4592-9925-27d2ec85f7da",
   "metadata": {},
   "source": [
    "Part 2: Creating a MLP Model with Seaborn’s Tips Dataset\n",
    "Let’s create a Multi-Layer Perceptron (MLP) model step by step using Python. We’ll use the tips dataset from the Seaborn library for this purpose."
   ]
  },
  {
   "cell_type": "code",
   "execution_count": 3,
   "id": "4b73696c-cb8f-42c4-b6b6-c7070d6755f9",
   "metadata": {},
   "outputs": [],
   "source": [
    "import seaborn as sns\n",
    "import pandas as pd\n",
    "import numpy as np\n",
    "from sklearn.model_selection import train_test_split\n",
    "from sklearn.preprocessing import StandardScaler\n",
    "from sklearn.neural_network import MLPClassifier\n",
    "from sklearn.metrics import accuracy_score, classification_report\n"
   ]
  },
  {
   "cell_type": "code",
   "execution_count": 5,
   "id": "0a62efa0-9b5e-46d4-a342-6f1895497d0b",
   "metadata": {},
   "outputs": [
    {
     "name": "stdout",
     "output_type": "stream",
     "text": [
      "   total_bill   tip     sex smoker  day    time  size\n",
      "0       16.99  1.01  Female     No  Sun  Dinner     2\n",
      "1       10.34  1.66    Male     No  Sun  Dinner     3\n",
      "2       21.01  3.50    Male     No  Sun  Dinner     3\n",
      "3       23.68  3.31    Male     No  Sun  Dinner     2\n",
      "4       24.59  3.61  Female     No  Sun  Dinner     4\n"
     ]
    }
   ],
   "source": [
    "tips = sns.load_dataset('tips')\n",
    "\n",
    "print(tips.head())\n"
   ]
  },
  {
   "cell_type": "markdown",
   "id": "00ac3202-4f70-407c-8677-68c8adf340b2",
   "metadata": {},
   "source": [
    "Preprocess the Data:\n",
    "\n",
    "Convert categorical variables to numerical values.\n",
    "Split the data into features (X) and target (y).\n",
    "Standardize the features."
   ]
  },
  {
   "cell_type": "code",
   "execution_count": 11,
   "id": "22f88359-0129-49dc-9141-0bf7babce6fb",
   "metadata": {},
   "outputs": [],
   "source": [
    "# Load the tips dataset\n",
    "tips = sns.load_dataset('tips')\n",
    "\n",
    "# Convert categorical variables to dummy variables\n",
    "tips = pd.get_dummies(tips, columns=['sex', 'smoker', 'day', 'time'], drop_first=True)\n"
   ]
  },
  {
   "cell_type": "code",
   "execution_count": 12,
   "id": "35b8a1ce-a130-41ce-a4e0-d648abb516d9",
   "metadata": {},
   "outputs": [],
   "source": [
    "# Define features and target\n",
    "X = tips.drop('tip', axis=1)  # Drop the 'tip' column for features\n",
    "y = (tips['tip'] > tips['tip'].median()).astype(int)  # Binary target based on median tip\n"
   ]
  },
  {
   "cell_type": "code",
   "execution_count": 13,
   "id": "bf82df66-32f7-47ac-b173-a35907a2b4dd",
   "metadata": {},
   "outputs": [],
   "source": [
    "from sklearn.model_selection import train_test_split\n",
    "\n",
    "# Split the data into training and testing sets\n",
    "X_train, X_test, y_train, y_test = train_test_split(X, y, test_size=0.2, random_state=42)\n"
   ]
  },
  {
   "cell_type": "code",
   "execution_count": 14,
   "id": "8a69d37f-cdde-4bd0-8859-f1dd55b33392",
   "metadata": {},
   "outputs": [],
   "source": [
    "from sklearn.preprocessing import StandardScaler\n",
    "\n",
    "# Initialize the scaler\n",
    "scaler = StandardScaler()\n",
    "\n",
    "# Fit and transform the training data\n",
    "X_train = scaler.fit_transform(X_train)\n",
    "\n",
    "# Transform the testing data\n",
    "X_test = scaler.transform(X_test)\n"
   ]
  },
  {
   "cell_type": "code",
   "execution_count": 15,
   "id": "c8cc9217-74e8-4528-8f74-31528f2c009b",
   "metadata": {},
   "outputs": [],
   "source": [
    "import pandas as pd\n",
    "import seaborn as sns\n",
    "from sklearn.model_selection import train_test_split\n",
    "from sklearn.preprocessing import StandardScaler\n",
    "\n",
    "# Load the tips dataset\n",
    "tips = sns.load_dataset('tips')\n",
    "\n",
    "# Convert categorical variables to dummy variables\n",
    "tips = pd.get_dummies(tips, columns=['sex', 'smoker', 'day', 'time'], drop_first=True)\n",
    "\n",
    "# Define features and target\n",
    "X = tips.drop('tip', axis=1)  # Drop the 'tip' column for features\n",
    "y = (tips['tip'] > tips['tip'].median()).astype(int)  # Binary target based on median tip\n",
    "\n",
    "# Split the data into training and testing sets\n",
    "X_train, X_test, y_train, y_test = train_test_split(X, y, test_size=0.2, random_state=42)\n",
    "\n",
    "# Standardize the features\n",
    "scaler = StandardScaler()\n",
    "X_train = scaler.fit_transform(X_train)  # Fit on training data and transform\n",
    "X_test = scaler.transform(X_test)  # Transform test data\n"
   ]
  },
  {
   "cell_type": "markdown",
   "id": "7c3e74bc-84f4-4564-88c6-2fbce702466d",
   "metadata": {},
   "source": [
    "Build and Train the MLP Model:"
   ]
  },
  {
   "cell_type": "code",
   "execution_count": 16,
   "id": "10fefe4f-05bd-4a08-94e2-8600555a8d54",
   "metadata": {},
   "outputs": [
    {
     "name": "stderr",
     "output_type": "stream",
     "text": [
      "C:\\Program Files\\conda\\Lib\\site-packages\\sklearn\\neural_network\\_multilayer_perceptron.py:686: ConvergenceWarning: Stochastic Optimizer: Maximum iterations (1000) reached and the optimization hasn't converged yet.\n",
      "  warnings.warn(\n"
     ]
    },
    {
     "data": {
      "text/html": [
       "<style>#sk-container-id-1 {color: black;background-color: white;}#sk-container-id-1 pre{padding: 0;}#sk-container-id-1 div.sk-toggleable {background-color: white;}#sk-container-id-1 label.sk-toggleable__label {cursor: pointer;display: block;width: 100%;margin-bottom: 0;padding: 0.3em;box-sizing: border-box;text-align: center;}#sk-container-id-1 label.sk-toggleable__label-arrow:before {content: \"▸\";float: left;margin-right: 0.25em;color: #696969;}#sk-container-id-1 label.sk-toggleable__label-arrow:hover:before {color: black;}#sk-container-id-1 div.sk-estimator:hover label.sk-toggleable__label-arrow:before {color: black;}#sk-container-id-1 div.sk-toggleable__content {max-height: 0;max-width: 0;overflow: hidden;text-align: left;background-color: #f0f8ff;}#sk-container-id-1 div.sk-toggleable__content pre {margin: 0.2em;color: black;border-radius: 0.25em;background-color: #f0f8ff;}#sk-container-id-1 input.sk-toggleable__control:checked~div.sk-toggleable__content {max-height: 200px;max-width: 100%;overflow: auto;}#sk-container-id-1 input.sk-toggleable__control:checked~label.sk-toggleable__label-arrow:before {content: \"▾\";}#sk-container-id-1 div.sk-estimator input.sk-toggleable__control:checked~label.sk-toggleable__label {background-color: #d4ebff;}#sk-container-id-1 div.sk-label input.sk-toggleable__control:checked~label.sk-toggleable__label {background-color: #d4ebff;}#sk-container-id-1 input.sk-hidden--visually {border: 0;clip: rect(1px 1px 1px 1px);clip: rect(1px, 1px, 1px, 1px);height: 1px;margin: -1px;overflow: hidden;padding: 0;position: absolute;width: 1px;}#sk-container-id-1 div.sk-estimator {font-family: monospace;background-color: #f0f8ff;border: 1px dotted black;border-radius: 0.25em;box-sizing: border-box;margin-bottom: 0.5em;}#sk-container-id-1 div.sk-estimator:hover {background-color: #d4ebff;}#sk-container-id-1 div.sk-parallel-item::after {content: \"\";width: 100%;border-bottom: 1px solid gray;flex-grow: 1;}#sk-container-id-1 div.sk-label:hover label.sk-toggleable__label {background-color: #d4ebff;}#sk-container-id-1 div.sk-serial::before {content: \"\";position: absolute;border-left: 1px solid gray;box-sizing: border-box;top: 0;bottom: 0;left: 50%;z-index: 0;}#sk-container-id-1 div.sk-serial {display: flex;flex-direction: column;align-items: center;background-color: white;padding-right: 0.2em;padding-left: 0.2em;position: relative;}#sk-container-id-1 div.sk-item {position: relative;z-index: 1;}#sk-container-id-1 div.sk-parallel {display: flex;align-items: stretch;justify-content: center;background-color: white;position: relative;}#sk-container-id-1 div.sk-item::before, #sk-container-id-1 div.sk-parallel-item::before {content: \"\";position: absolute;border-left: 1px solid gray;box-sizing: border-box;top: 0;bottom: 0;left: 50%;z-index: -1;}#sk-container-id-1 div.sk-parallel-item {display: flex;flex-direction: column;z-index: 1;position: relative;background-color: white;}#sk-container-id-1 div.sk-parallel-item:first-child::after {align-self: flex-end;width: 50%;}#sk-container-id-1 div.sk-parallel-item:last-child::after {align-self: flex-start;width: 50%;}#sk-container-id-1 div.sk-parallel-item:only-child::after {width: 0;}#sk-container-id-1 div.sk-dashed-wrapped {border: 1px dashed gray;margin: 0 0.4em 0.5em 0.4em;box-sizing: border-box;padding-bottom: 0.4em;background-color: white;}#sk-container-id-1 div.sk-label label {font-family: monospace;font-weight: bold;display: inline-block;line-height: 1.2em;}#sk-container-id-1 div.sk-label-container {text-align: center;}#sk-container-id-1 div.sk-container {/* jupyter's `normalize.less` sets `[hidden] { display: none; }` but bootstrap.min.css set `[hidden] { display: none !important; }` so we also need the `!important` here to be able to override the default hidden behavior on the sphinx rendered scikit-learn.org. See: https://github.com/scikit-learn/scikit-learn/issues/21755 */display: inline-block !important;position: relative;}#sk-container-id-1 div.sk-text-repr-fallback {display: none;}</style><div id=\"sk-container-id-1\" class=\"sk-top-container\"><div class=\"sk-text-repr-fallback\"><pre>MLPClassifier(hidden_layer_sizes=(10, 10), max_iter=1000, random_state=42)</pre><b>In a Jupyter environment, please rerun this cell to show the HTML representation or trust the notebook. <br />On GitHub, the HTML representation is unable to render, please try loading this page with nbviewer.org.</b></div><div class=\"sk-container\" hidden><div class=\"sk-item\"><div class=\"sk-estimator sk-toggleable\"><input class=\"sk-toggleable__control sk-hidden--visually\" id=\"sk-estimator-id-1\" type=\"checkbox\" checked><label for=\"sk-estimator-id-1\" class=\"sk-toggleable__label sk-toggleable__label-arrow\">MLPClassifier</label><div class=\"sk-toggleable__content\"><pre>MLPClassifier(hidden_layer_sizes=(10, 10), max_iter=1000, random_state=42)</pre></div></div></div></div></div>"
      ],
      "text/plain": [
       "MLPClassifier(hidden_layer_sizes=(10, 10), max_iter=1000, random_state=42)"
      ]
     },
     "execution_count": 16,
     "metadata": {},
     "output_type": "execute_result"
    }
   ],
   "source": [
    "# Initialize the MLP Classifier\n",
    "model = MLPClassifier(hidden_layer_sizes=(10, 10), max_iter=1000, random_state=42)\n",
    "\n",
    "# Train the model\n",
    "model.fit(X_train, y_train)\n"
   ]
  },
  {
   "cell_type": "markdown",
   "id": "4e72bc55-5c60-4034-9562-5779379aceee",
   "metadata": {},
   "source": [
    "Evaluate the Model:"
   ]
  },
  {
   "cell_type": "code",
   "execution_count": 17,
   "id": "0dbe0d4b-6445-4281-98b6-ce2923fb565d",
   "metadata": {},
   "outputs": [
    {
     "name": "stdout",
     "output_type": "stream",
     "text": [
      "Accuracy: 0.73\n",
      "Classification Report:\n",
      "              precision    recall  f1-score   support\n",
      "\n",
      "           0       0.85      0.71      0.77        31\n",
      "           1       0.61      0.78      0.68        18\n",
      "\n",
      "    accuracy                           0.73        49\n",
      "   macro avg       0.73      0.74      0.73        49\n",
      "weighted avg       0.76      0.73      0.74        49\n",
      "\n"
     ]
    }
   ],
   "source": [
    "# Make predictions\n",
    "y_pred = model.predict(X_test)\n",
    "\n",
    "# Evaluate performance\n",
    "accuracy = accuracy_score(y_test, y_pred)\n",
    "report = classification_report(y_test, y_pred)\n",
    "\n",
    "print(f'Accuracy: {accuracy:.2f}')\n",
    "print('Classification Report:')\n",
    "print(report)\n"
   ]
  },
  {
   "cell_type": "code",
   "execution_count": 18,
   "id": "5659c777-bcb3-46a0-b932-d92ccd022548",
   "metadata": {},
   "outputs": [
    {
     "name": "stderr",
     "output_type": "stream",
     "text": [
      "C:\\Program Files\\conda\\Lib\\site-packages\\sklearn\\neural_network\\_multilayer_perceptron.py:686: ConvergenceWarning: Stochastic Optimizer: Maximum iterations (1000) reached and the optimization hasn't converged yet.\n",
      "  warnings.warn(\n"
     ]
    },
    {
     "name": "stdout",
     "output_type": "stream",
     "text": [
      "Accuracy: 0.73\n",
      "Classification Report:\n",
      "              precision    recall  f1-score   support\n",
      "\n",
      "           0       0.85      0.71      0.77        31\n",
      "           1       0.61      0.78      0.68        18\n",
      "\n",
      "    accuracy                           0.73        49\n",
      "   macro avg       0.73      0.74      0.73        49\n",
      "weighted avg       0.76      0.73      0.74        49\n",
      "\n"
     ]
    },
    {
     "data": {
      "image/png": "[encoded data removed]",
      "text/plain": [
       "<Figure size 800x600 with 2 Axes>"
      ]
     },
     "metadata": {},
     "output_type": "display_data"
    }
   ],
   "source": [
    "import seaborn as sns\n",
    "import pandas as pd\n",
    "import numpy as np\n",
    "from sklearn.model_selection import train_test_split\n",
    "from sklearn.preprocessing import StandardScaler\n",
    "from sklearn.neural_network import MLPClassifier\n",
    "from sklearn.metrics import accuracy_score, classification_report, confusion_matrix\n",
    "import matplotlib.pyplot as plt\n",
    "import seaborn as sns\n",
    "\n",
    "# Load the tips dataset\n",
    "tips = sns.load_dataset('tips')\n",
    "\n",
    "# Convert categorical variables to dummy variables\n",
    "tips = pd.get_dummies(tips, columns=['sex', 'smoker', 'day', 'time'], drop_first=True)\n",
    "\n",
    "# Define features and target\n",
    "X = tips.drop('tip', axis=1)  # Drop the 'tip' column for features\n",
    "y = (tips['tip'] > tips['tip'].median()).astype(int)  # Binary target based on median tip\n",
    "\n",
    "# Split the data into training and testing sets\n",
    "X_train, X_test, y_train, y_test = train_test_split(X, y, test_size=0.2, random_state=42)\n",
    "\n",
    "# Standardize the features\n",
    "scaler = StandardScaler()\n",
    "X_train = scaler.fit_transform(X_train)  # Fit on training data and transform\n",
    "X_test = scaler.transform(X_test)  # Transform test data\n",
    "\n",
    "# Initialize and train the MLP Classifier\n",
    "model = MLPClassifier(hidden_layer_sizes=(10, 10), max_iter=1000, random_state=42)\n",
    "model.fit(X_train, y_train)\n",
    "\n",
    "# Make predictions\n",
    "y_pred = model.predict(X_test)\n",
    "\n",
    "# Evaluate performance\n",
    "accuracy = accuracy_score(y_test, y_pred)\n",
    "report = classification_report(y_test, y_pred)\n",
    "\n",
    "print(f'Accuracy: {accuracy:.2f}')\n",
    "print('Classification Report:')\n",
    "print(report)\n",
    "\n",
    "# Compute confusion matrix\n",
    "cm = confusion_matrix(y_test, y_pred)\n",
    "\n",
    "# Plot confusion matrix\n",
    "plt.figure(figsize=(8, 6))\n",
    "sns.heatmap(cm, annot=True, fmt='d', cmap='Blues', xticklabels=['Below Median', 'Above Median'], yticklabels=['Below Median', 'Above Median'])\n",
    "plt.xlabel('Predicted Label')\n",
    "plt.ylabel('True Label')\n",
    "plt.title('Confusion Matrix')\n",
    "plt.show()\n"
   ]
  },
  {
   "cell_type": "markdown",
   "id": "9e89e8dc-1e71-48a1-baa9-731be17c66cf",
   "metadata": {},
   "source": [
    "Summary\n",
    "Gradient Descent: Used to minimize the loss function in machine learning models. Variants include Batch, Stochastic, and Mini-batch Gradient Descent.\n",
    "Validation Set & Loss: Used to assess the model's performance and ensure it generalizes well to unseen data.\n",
    "MLP Model: We demonstrated how to build, train, and evaluate a Multi-Layer Perceptron model using the Seaborn tips dataset, including preprocessing and performance evaluation."
   ]
  },
  {
   "cell_type": "code",
   "execution_count": null,
   "id": "83946cca-073e-435c-a090-ce3c71b4e94d",
   "metadata": {},
   "outputs": [],
   "source": []
  }
 ],
 "metadata": {
  "kernelspec": {
   "display_name": "Python 3 (ipykernel)",
   "language": "python",
   "name": "python3"
  },
  "language_info": {
   "codemirror_mode": {
    "name": "ipython",
    "version": 3
   },
   "file_extension": ".py",
   "mimetype": "text/x-python",
   "name": "python",
   "nbconvert_exporter": "python",
   "pygments_lexer": "ipython3",
   "version": "3.11.7"
  }
 },
 "nbformat": 4,
 "nbformat_minor": 5
}
