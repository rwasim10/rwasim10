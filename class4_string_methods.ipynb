{
  "nbformat": 4,
  "nbformat_minor": 0,
  "metadata": {
    "colab": {
      "provenance": [],
      "authorship_tag": "ABX9TyNKFqjfCeimSFhwvpnbfXle",
      "include_colab_link": true
    },
    "kernelspec": {
      "name": "python3",
      "display_name": "Python 3"
    },
    "language_info": {
      "name": "python"
    }
  },
  "cells": [
    {
      "cell_type": "markdown",
      "metadata": {
        "id": "view-in-github",
        "colab_type": "text"
      },
      "source": [
        "<a href=\"https://colab.research.google.com/github/rwasim10/rwasim10/blob/main/class4_string_methods.ipynb\" target=\"_parent\"><img src=\"https://colab.research.google.com/assets/colab-badge.svg\" alt=\"Open In Colab\"/></a>"
      ]
    },
    {
      "cell_type": "code",
      "execution_count": null,
      "metadata": {
        "id": "59eGQ4RW2OeH"
      },
      "outputs": [],
      "source": [
        "a = \"Pakistan zindabad\"\n",
        "print(type(a))\n",
        "print(type(b))\n",
        "\n"
      ]
    },
    {
      "cell_type": "code",
      "source": [
        "name = \"Syed Rohaan\"\n",
        "print(name.count(\"a\"))"
      ],
      "metadata": {
        "colab": {
          "base_uri": "https://localhost:8080/"
        },
        "id": "UVQU9mmN-Quw",
        "outputId": "29afc1b9-0306-4f7c-bd50-34eb4ffbb6ab"
      },
      "execution_count": 3,
      "outputs": [
        {
          "output_type": "stream",
          "name": "stdout",
          "text": [
            "2\n"
          ]
        }
      ]
    },
    {
      "cell_type": "code",
      "source": [
        "name = \"rohan\"\n",
        "print(len(name))"
      ],
      "metadata": {
        "colab": {
          "base_uri": "https://localhost:8080/"
        },
        "id": "etuiZ4SD8R5c",
        "outputId": "ef671993-38a9-4672-ffec-0003ce4cb89c"
      },
      "execution_count": 2,
      "outputs": [
        {
          "output_type": "stream",
          "name": "stdout",
          "text": [
            "5\n"
          ]
        }
      ]
    },
    {
      "cell_type": "code",
      "source": [
        "name = \"Syed Rohaan Waseem\" #"
      ],
      "metadata": {
        "id": "DVnV-hA8-09Z"
      },
      "execution_count": null,
      "outputs": []
    },
    {
      "cell_type": "code",
      "source": [
        "txt = \"My name is stale\"\n",
        "\n",
        "x = txt.encode()\n",
        "print(x)"
      ],
      "metadata": {
        "colab": {
          "base_uri": "https://localhost:8080/"
        },
        "id": "3DbHvrd6BMw7",
        "outputId": "1cdf1023-f574-4fe0-c668-50d8b234ba8b"
      },
      "execution_count": 5,
      "outputs": [
        {
          "output_type": "stream",
          "name": "stdout",
          "text": [
            "b'My name is stale'\n"
          ]
        }
      ]
    },
    {
      "cell_type": "code",
      "source": [
        "txt = \"My name stale\""
      ],
      "metadata": {
        "id": "voYymz0xCwSF"
      },
      "execution_count": null,
      "outputs": []
    },
    {
      "cell_type": "code",
      "source": [
        "name = \"Rohaan\"\n",
        "print(name.endswith(\"n\"))"
      ],
      "metadata": {
        "colab": {
          "base_uri": "https://localhost:8080/"
        },
        "id": "KGKDFFCkEIfr",
        "outputId": "9b501714-f628-4280-aee1-8cde16fe2d51"
      },
      "execution_count": 7,
      "outputs": [
        {
          "output_type": "stream",
          "name": "stdout",
          "text": [
            "True\n"
          ]
        }
      ]
    },
    {
      "cell_type": "code",
      "source": [
        "card = \"\"\"\n",
        "NED UNIVERSITY\n",
        "BATCH 5\n",
        "CLASS\\tPYTHON\n",
        "NAME:\\tRohaan\n",
        "\"\"\"\n",
        "\n",
        "print(card.expandtabs(30))"
      ],
      "metadata": {
        "colab": {
          "base_uri": "https://localhost:8080/"
        },
        "id": "xJuqrJLgE3zm",
        "outputId": "2466c724-b6e3-4976-ab6e-ea21baf16385"
      },
      "execution_count": 8,
      "outputs": [
        {
          "output_type": "stream",
          "name": "stdout",
          "text": [
            "\n",
            "NED UNIVERSITY\n",
            "BATCH 5\n",
            "CLASS                         PYTHON\n",
            "NAME:                         Rohaan\n",
            "\n"
          ]
        }
      ]
    },
    {
      "cell_type": "code",
      "source": [
        "name = \"Syed Rohaan Rohaan Rohaan\"\n",
        "name.replace(\"Syed\", \"Aslam\", -1 )"
      ],
      "metadata": {
        "colab": {
          "base_uri": "https://localhost:8080/",
          "height": 35
        },
        "id": "3DQ7P5MdGMG8",
        "outputId": "578016f4-8a19-4c0c-cec7-8a08b2101253"
      },
      "execution_count": 9,
      "outputs": [
        {
          "output_type": "execute_result",
          "data": {
            "text/plain": [
              "'Aslam Rohaan Rohaan Rohaan'"
            ],
            "application/vnd.google.colaboratory.intrinsic+json": {
              "type": "string"
            }
          },
          "metadata": {},
          "execution_count": 9
        }
      ]
    },
    {
      "cell_type": "markdown",
      "source": [],
      "metadata": {
        "id": "phQT81nULbhL"
      }
    }
  ]
}