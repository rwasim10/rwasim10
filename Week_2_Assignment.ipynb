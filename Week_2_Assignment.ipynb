{
 "cells": [
  {
   "cell_type": "markdown",
   "id": "73e67717",
   "metadata": {},
   "source": [
    "# Python String Concatenation and Formatting Assignments"
   ]
  },
  {
   "cell_type": "markdown",
   "id": "11ff4982",
   "metadata": {},
   "source": [
    "## Assignment 1: String Concatenation and Formatting"
   ]
  },
  {
   "cell_type": "markdown",
   "id": "6ca7d368",
   "metadata": {},
   "source": [
    "### Instructions: "
   ]
  },
  {
   "cell_type": "markdown",
   "id": "514ba137",
   "metadata": {},
   "source": [
    "#### 1. Create a variable `name` and assign your name to it.\n",
    "#### 2. Create a variable `age` and assign your age to it.\n",
    "#### 3. Create a variable `country` and assign your country of residence to it.\n",
    "#### 4. Using the `+` operator, concatenate the variables to form a sentence in the following format: \"My name is `<name>`, I am `<age>` years old, and I live in `<country>`.\"\n",
    "#### 5. Print the concatenated sentence. "
   ]
  },
  {
   "cell_type": "code",
   "execution_count": null,
   "id": "b39b941e",
   "metadata": {},
   "outputs": [],
   "source": [
    "name=\"Syed Rohaan\" # My Name is\n",
    "age=26 # I am age years old\n",
    "country=\"Pakistan\" # I Live in\n",
    "residence=\"R-597 Block 9 Dastagir Society FB Area Karachi\" # My address"
   ]
  },
  {
   "cell_type": "code",
   "execution_count": 48,
   "id": "e5be71c2",
   "metadata": {},
   "outputs": [],
   "source": [
    "message = \"My Name is \" + name + \", I am \" + format(age) + \" years old, and I live in \"+ country"
   ]
  },
  {
   "cell_type": "code",
   "execution_count": 49,
   "id": "332ca96c",
   "metadata": {},
   "outputs": [
    {
     "name": "stdout",
     "output_type": "stream",
     "text": [
      "My Name is Syed Rohaan, I am 26 years old, and I live in Pakistan\n"
     ]
    }
   ],
   "source": [
    "print(message)"
   ]
  },
  {
   "cell_type": "markdown",
   "id": "a53c0cd0",
   "metadata": {},
   "source": [
    "## Assignment 2: String Formatting using `.format()` "
   ]
  },
  {
   "cell_type": "markdown",
   "id": "13e1e572",
   "metadata": {},
   "source": [
    "### Instructions:"
   ]
  },
  {
   "cell_type": "markdown",
   "id": "3bd44c7b",
   "metadata": {},
   "source": [
    "#### 1. Create a variable `item` and assign a product name to it (e.g., \"laptop\", \"book\", \"phone\").\n",
    "#### 2. Create a variable `price` and assign a price to the item.\n",
    "#### 3. Create a variable `quantity` and assign a quantity value.\n",
    "#### 4. Calculate the total cost using the formula: `total_cost = price * quantity`.\n",
    "#### 5. Using the `.format()` method, create a formatted string: \"I bought `<quantity>` `<item>`(s) at `<price>` each, for a total of $`<total_cost>`.\"\n",
    "#### 6. Print the formatted string."
   ]
  },
  {
   "cell_type": "code",
   "execution_count": 73,
   "id": "276260cc",
   "metadata": {},
   "outputs": [],
   "source": [
    "item = \"laptop\"\n",
    "price = 45000\n",
    "quantity = 24\n",
    "total_cost = 45000 * quantity"
   ]
  },
  {
   "cell_type": "code",
   "execution_count": 77,
   "id": "9ea06e7b",
   "metadata": {},
   "outputs": [],
   "source": [
    "message =  \"I bought \"+format(quantity)+ \" \" +item +\" at \"+format(price)+\"/-\"+\" each, for a total of Rs: \"+format(total_cost)+\"/-\""
   ]
  },
  {
   "cell_type": "code",
   "execution_count": 78,
   "id": "34b31f5a",
   "metadata": {},
   "outputs": [
    {
     "name": "stdout",
     "output_type": "stream",
     "text": [
      "I bought 24 laptop at 45000/- each, for a total of Rs: 1080000/-\n"
     ]
    }
   ],
   "source": [
    "print(message)"
   ]
  },
  {
   "cell_type": "markdown",
   "id": "b5d1d74d",
   "metadata": {},
   "source": [
    "## Assignment 3: String Interpolation using `f''"
   ]
  },
  {
   "cell_type": "markdown",
   "id": "5a5a29d9",
   "metadata": {},
   "source": [
    "### Instruction:"
   ]
  },
  {
   "cell_type": "markdown",
   "id": "19eb4470",
   "metadata": {},
   "source": [
    "#### 1. Create a variable `city` and assign the name of a city.\n",
    "#### 2. Create a variable `temperature` and assign a temperature value in Celsius.\n",
    "#### 3. Using `f''` string interpolation, create a string: \"The temperature in `<city>` is `<temperature>`°C.\"\n",
    "#### 4. Print the interpolated string."
   ]
  },
  {
   "cell_type": "code",
   "execution_count": 1,
   "id": "ca9205b5",
   "metadata": {},
   "outputs": [],
   "source": [
    "city=\"Karachi\""
   ]
  },
  {
   "cell_type": "code",
   "execution_count": 3,
   "id": "a6b21aae",
   "metadata": {},
   "outputs": [],
   "source": [
    "temperature= 28"
   ]
  },
  {
   "cell_type": "code",
   "execution_count": 7,
   "id": "d8c3e935",
   "metadata": {},
   "outputs": [
    {
     "name": "stdout",
     "output_type": "stream",
     "text": [
      "The temperature in Karachi is 28°C.\n"
     ]
    }
   ],
   "source": [
    "print(f\"The temperature in {city} is {temperature}°C.\")"
   ]
  },
  {
   "cell_type": "markdown",
   "id": "349da2ac",
   "metadata": {},
   "source": [
    "## Assignment 4: String Formatting using `%()"
   ]
  },
  {
   "cell_type": "markdown",
   "id": "5d767553",
   "metadata": {},
   "source": [
    "### Instructions: "
   ]
  },
  {
   "cell_type": "markdown",
   "id": "846682e2",
   "metadata": {},
   "source": [
    "#### 1. Create a variable `first_name` and assign your first name to it.\n",
    "#### 2. Create a variable `last_name` and assign your last name to it.\n",
    "#### 3. Create a variable `birth_year` and assign your birth year.\n",
    "#### 4. Calculate your age using the formula: `age = current_year - birth_year`, where `current_year` is the current year.\n",
    "#### 5. Using `%()` string formatting, create a string: \"My name is %(first_name)s %(last_name)s. I am %(age)d years old.\"\n",
    "#### 6. Print the formatted string. "
   ]
  },
  {
   "cell_type": "code",
   "execution_count": 9,
   "id": "37d6b6ee",
   "metadata": {},
   "outputs": [],
   "source": [
    "first_name=\"Rohan\""
   ]
  },
  {
   "cell_type": "code",
   "execution_count": 10,
   "id": "d28572fe",
   "metadata": {},
   "outputs": [],
   "source": [
    "last_name=\"Wasim\""
   ]
  },
  {
   "cell_type": "code",
   "execution_count": 11,
   "id": "6a40b34a",
   "metadata": {},
   "outputs": [],
   "source": [
    "birth_year=1997"
   ]
  },
  {
   "cell_type": "code",
   "execution_count": 12,
   "id": "7d6b0ddd",
   "metadata": {},
   "outputs": [],
   "source": [
    "age = 2023 - birth_year"
   ]
  },
  {
   "cell_type": "code",
   "execution_count": 16,
   "id": "c939bca3",
   "metadata": {},
   "outputs": [],
   "source": [
    "formatted_string = \"My name is %(first_name)s %(last_name)s. I am %(age)d years old.\" % {\n",
    "    \"first_name\": first_name,\n",
    "    \"last_name\": last_name,\n",
    "    \"age\": age\n",
    "}"
   ]
  },
  {
   "cell_type": "code",
   "execution_count": 17,
   "id": "9e00750f",
   "metadata": {},
   "outputs": [
    {
     "name": "stdout",
     "output_type": "stream",
     "text": [
      "My name is Rohan Wasim. I am 26 years old.\n"
     ]
    }
   ],
   "source": [
    "print(formatted_string)"
   ]
  },
  {
   "cell_type": "markdown",
   "id": "6a46f1f6",
   "metadata": {},
   "source": [
    "## **Assignment 5: Combining Formatting Methods**"
   ]
  },
  {
   "cell_type": "markdown",
   "id": "ffb97b5e",
   "metadata": {},
   "source": [
    "### Instructions: "
   ]
  },
  {
   "cell_type": "markdown",
   "id": "a2f44550",
   "metadata": {},
   "source": [
    "#### 1. Create a variable `product` and assign a product name.\n",
    "#### 2. Create a variable `discount` and assign a discount percentage.\n",
    "#### 3. Create a variable `original_price` and assign an original price.\n",
    "#### 4. Calculate the discounted price using the formula: `discounted_price = original_price * (1 - discount / 100)`.\n",
    "#### 5. Using any combination of string formatting methods (`+`, `.format()`, `f''`, `%()`), create a descriptive string with the product name, original price, discount percentage, and discounted price.\n",
    "#### 6. Print the descriptive string."
   ]
  },
  {
   "cell_type": "markdown",
   "id": "bdc8d67b",
   "metadata": {},
   "source": [
    "product=\"Laptop\""
   ]
  },
  {
   "cell_type": "code",
   "execution_count": 20,
   "id": "a2f33ded",
   "metadata": {},
   "outputs": [],
   "source": [
    "discount=15"
   ]
  },
  {
   "cell_type": "code",
   "execution_count": 21,
   "id": "65bf9aa3",
   "metadata": {},
   "outputs": [],
   "source": [
    "original_price=80000"
   ]
  },
  {
   "cell_type": "code",
   "execution_count": 22,
   "id": "483631f2",
   "metadata": {},
   "outputs": [],
   "source": [
    "discounted_price = original_price * (1 - discount / 100)"
   ]
  },
  {
   "cell_type": "code",
   "execution_count": 29,
   "id": "0a8f0bd9",
   "metadata": {},
   "outputs": [],
   "source": [
    "descriptive_string = \"Product: \" + product + \"\\n\" \\\n",
    "                     \"Original Price: Rs{:.2f}\\n\" \\\n",
    "                     \"Discount Percentage: {}%\\n\" \\\n",
    "                     \"Discounted Price: Rs{:.2f}\".format(original_price, discount, discounted_price)"
   ]
  },
  {
   "cell_type": "code",
   "execution_count": 30,
   "id": "7c508ef5",
   "metadata": {},
   "outputs": [
    {
     "name": "stdout",
     "output_type": "stream",
     "text": [
      "Product: Laptop\n",
      "Original Price: Rs80000.00\n",
      "Discount Percentage: 15%\n",
      "Discounted Price: Rs68000.00\n"
     ]
    }
   ],
   "source": [
    "print(descriptive_string)"
   ]
  }
 ],
 "metadata": {
  "kernelspec": {
   "display_name": "Python 3 (ipykernel)",
   "language": "python",
   "name": "python3"
  },
  "language_info": {
   "codemirror_mode": {
    "name": "ipython",
    "version": 3
   },
   "file_extension": ".py",
   "mimetype": "text/x-python",
   "name": "python",
   "nbconvert_exporter": "python",
   "pygments_lexer": "ipython3",
   "version": "3.11.3"
  }
 },
 "nbformat": 4,
 "nbformat_minor": 5
}
