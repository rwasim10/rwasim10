{
 "cells": [
  {
   "cell_type": "markdown",
   "id": "7ed4f5bd",
   "metadata": {},
   "source": [
    "# Python List Manipulation Assignment"
   ]
  },
  {
   "cell_type": "markdown",
   "id": "68f72a47",
   "metadata": {},
   "source": [
    "## Question 1: Basic List Operations "
   ]
  },
  {
   "cell_type": "code",
   "execution_count": 17,
   "id": "1a775502",
   "metadata": {},
   "outputs": [
    {
     "name": "stdout",
     "output_type": "stream",
     "text": [
      "['apple', 'banana', 'orange', 'grape', 'kiwi']\n"
     ]
    }
   ],
   "source": [
    "#a) Create a list named `fruits` containing the following items: \"apple\", \"banana\", \"orange\", \"grape\", \"kiwi\".\n",
    "fruits =[\"apple\", 'banana', \"orange\", \"grape\", \"kiwi\"]\n",
    "print(fruits)"
   ]
  },
  {
   "cell_type": "code",
   "execution_count": 18,
   "id": "26f5a148",
   "metadata": {},
   "outputs": [
    {
     "name": "stdout",
     "output_type": "stream",
     "text": [
      "['apple', 'banana', 'orange', 'grape', 'kiwi', 'pear']\n"
     ]
    }
   ],
   "source": [
    "#b) Add \"pear\" to the end of the list.\n",
    "fruits.append(\"pear\")\n",
    "print(fruits)"
   ]
  },
  {
   "cell_type": "code",
   "execution_count": 19,
   "id": "23239f79",
   "metadata": {},
   "outputs": [
    {
     "name": "stdout",
     "output_type": "stream",
     "text": [
      "['apple', 'mango', 'banana', 'orange', 'grape', 'kiwi', 'pear']\n"
     ]
    }
   ],
   "source": [
    "#c) Insert \"mango\" at the second position in the list.\n",
    "fruits.insert(1,\"mango\")\n",
    "print(fruits)"
   ]
  },
  {
   "cell_type": "code",
   "execution_count": 20,
   "id": "38351514",
   "metadata": {},
   "outputs": [
    {
     "name": "stdout",
     "output_type": "stream",
     "text": [
      "['apple', 'mango', 'banana', 'grape', 'kiwi', 'pear']\n"
     ]
    }
   ],
   "source": [
    "#d) Remove \"orange\" from the list.\n",
    "fruits.remove(\"orange\")\n",
    "print(fruits)"
   ]
  },
  {
   "cell_type": "markdown",
   "id": "50ea154f",
   "metadata": {},
   "source": [
    "## Question 2: Slicing and Indexing "
   ]
  },
  {
   "cell_type": "code",
   "execution_count": 23,
   "id": "8d30a3e0",
   "metadata": {},
   "outputs": [
    {
     "name": "stdout",
     "output_type": "stream",
     "text": [
      "[0, 1, 2, 3, 4, 5, 6, 7, 8, 9]\n"
     ]
    }
   ],
   "source": [
    "#a) Create a list named `numbers` containing the integers from 0 to 9.\n",
    "numbers=[0,1,2,3,4,5,6,7,8,9]\n",
    "print(numbers)"
   ]
  },
  {
   "cell_type": "code",
   "execution_count": 30,
   "id": "374e0d9d",
   "metadata": {},
   "outputs": [
    {
     "name": "stdout",
     "output_type": "stream",
     "text": [
      "The index of 3 : 3\n"
     ]
    }
   ],
   "source": [
    "#b) Print the element at index 3.\n",
    "index = numbers.index(3)\n",
    "print('The index of 3 :', index)"
   ]
  },
  {
   "cell_type": "code",
   "execution_count": 36,
   "id": "c90b42f0",
   "metadata": {},
   "outputs": [
    {
     "name": "stdout",
     "output_type": "stream",
     "text": [
      "The index of 2 to 6 : [2, 3, 4, 5, 6]\n"
     ]
    }
   ],
   "source": [
    "#c) Print a sublist containing the elements from index 2 to 6 (inclusive).\n",
    "index=numbers[2:7]\n",
    "print('The index of 2 to 6 :', index)"
   ]
  },
  {
   "cell_type": "code",
   "execution_count": 44,
   "id": "6404e883",
   "metadata": {},
   "outputs": [
    {
     "name": "stdout",
     "output_type": "stream",
     "text": [
      "The last three elements is : [7, 8, 9]\n"
     ]
    }
   ],
   "source": [
    "#d) Print the last three elements using negative indexing.\n",
    "index=numbers[-3:]\n",
    "print('The last three elements is :', index)"
   ]
  },
  {
   "cell_type": "markdown",
   "id": "b3925355",
   "metadata": {},
   "source": [
    "## Question 3: List Comprehension "
   ]
  },
  {
   "cell_type": "code",
   "execution_count": 46,
   "id": "4fc7dd9a",
   "metadata": {},
   "outputs": [
    {
     "name": "stdout",
     "output_type": "stream",
     "text": [
      "[1, 4, 9, 16, 25, 36, 49, 64, 81, 100]\n"
     ]
    }
   ],
   "source": [
    "#a) Create a list named `squares` using a list comprehension that contains the squares of numbers from 1 to 10.\n",
    "squares = [x ** 2 for x in range(1, 11)]\n",
    "print(squares)"
   ]
  },
  {
   "cell_type": "code",
   "execution_count": 48,
   "id": "9bd7f467",
   "metadata": {},
   "outputs": [
    {
     "name": "stdout",
     "output_type": "stream",
     "text": [
      "[4, 16, 36, 64, 100]\n"
     ]
    }
   ],
   "source": [
    "#b) Create a new list named `even_squares` using a list comprehension that contains the squares of even numbers from the `squares` list.\n",
    "squares = [x ** 2 for x in range(1, 11)]\n",
    "even_squares = [x for x in squares if x % 2 == 0]\n",
    "print(even_squares)"
   ]
  },
  {
   "cell_type": "markdown",
   "id": "2b71cb6f",
   "metadata": {},
   "source": [
    "## Question 4: List Manipulation "
   ]
  },
  {
   "cell_type": "code",
   "execution_count": 92,
   "id": "a2f34974",
   "metadata": {},
   "outputs": [],
   "source": [
    "#a) Create a list named `colors` containing the following items: \"red\", \"green\", \"blue\", \"yellow\", \"purple\".\n",
    "colors= [\"red\", \"green\", \"blue\", \"yellow\", \"purple\"]"
   ]
  },
  {
   "cell_type": "code",
   "execution_count": 93,
   "id": "da12532a",
   "metadata": {},
   "outputs": [],
   "source": [
    "#b) Swap the first and last elements of the list.\n",
    "\n",
    "# Swap function\n",
    "def swapList(newList):\n",
    "    size = len(newList)\n",
    "     \n",
    "    # Swapping\n",
    "    temp = newList[0]\n",
    "    newList[0] = newList[size - 1]\n",
    "    newList[size - 1] = temp\n",
    "     \n",
    "    return newList"
   ]
  },
  {
   "cell_type": "code",
   "execution_count": 94,
   "id": "bd0b35a6",
   "metadata": {},
   "outputs": [
    {
     "name": "stdout",
     "output_type": "stream",
     "text": [
      "['purple', 'green', 'blue', 'yellow', 'red']\n"
     ]
    }
   ],
   "source": [
    "print(swapList(colors))"
   ]
  },
  {
   "cell_type": "code",
   "execution_count": 95,
   "id": "ad8ead6d",
   "metadata": {},
   "outputs": [
    {
     "name": "stdout",
     "output_type": "stream",
     "text": [
      "Reversed List: ['red', 'yellow', 'blue', 'green', 'purple']\n"
     ]
    }
   ],
   "source": [
    "#c) Reverse the order of the list.\n",
    "colors.reverse()\n",
    "print('Reversed List:', colors)"
   ]
  },
  {
   "cell_type": "code",
   "execution_count": 96,
   "id": "ce8fa738",
   "metadata": {},
   "outputs": [
    {
     "name": "stdout",
     "output_type": "stream",
     "text": [
      "Updated colors list:  ['red', 'blue', 'green', 'purple']\n"
     ]
    }
   ],
   "source": [
    "#d) Remove the second and third elements from the list.\n",
    "# Deleting 'yellow' and 'blue' element\n",
    "del colors[1:2]\n",
    "# Updated colors List\n",
    "print('Updated colors list: ', colors)"
   ]
  },
  {
   "cell_type": "markdown",
   "id": "d7e3dec3",
   "metadata": {},
   "source": [
    "## Question 5: Advanced Slicing"
   ]
  },
  {
   "cell_type": "code",
   "execution_count": 104,
   "id": "ad632e5f",
   "metadata": {},
   "outputs": [
    {
     "name": "stdout",
     "output_type": "stream",
     "text": [
      "Letters list from 'a' to 'j':  ['a', 'b', 'c', 'd', 'e', 'f', 'g', 'h', 'i', 'j']\n"
     ]
    }
   ],
   "source": [
    "#a) Create a list named `letters` containing the letters from 'a' to 'j'.\n",
    "alphabet = []\n",
    "start = ord('a')\n",
    "for i in range(10):\n",
    "    alphabet.append(chr(start + i))\n",
    "\n",
    "print(\"Letters list from 'a' to 'j': \",alphabet)"
   ]
  },
  {
   "cell_type": "code",
   "execution_count": 105,
   "id": "e3fbec7c",
   "metadata": {},
   "outputs": [
    {
     "name": "stdout",
     "output_type": "stream",
     "text": [
      "first half of the letters list:  ['a', 'b', 'c', 'd', 'e']\n"
     ]
    }
   ],
   "source": [
    "#b) Using slicing, create a new list `first_half` containing the first half of the `letters` list.\n",
    "# Calculate the index at which to split the list\n",
    "split_index = len(alphabet) // 2\n",
    "\n",
    "# Create the new list containing the first half of the letters\n",
    "first_half = alphabet[:split_index]\n",
    "print(\"first half of the letters list: \",first_half)"
   ]
  },
  {
   "cell_type": "code",
   "execution_count": 108,
   "id": "e2c2e7a6",
   "metadata": {},
   "outputs": [
    {
     "name": "stdout",
     "output_type": "stream",
     "text": [
      "last three elements of the letter list:  ['h', 'i', 'j']\n"
     ]
    }
   ],
   "source": [
    "#c) Using slicing, create a new list `last_three` containing the last three elements of the `letters` list.\n",
    "last_three = alphabet[-3:]\n",
    "\n",
    "print('last three elements of the letter list: ',last_three)"
   ]
  },
  {
   "cell_type": "markdown",
   "id": "ff83b59b",
   "metadata": {},
   "source": [
    "## Question 6: Nested Lists"
   ]
  },
  {
   "cell_type": "code",
   "execution_count": 118,
   "id": "47e77fab",
   "metadata": {},
   "outputs": [
    {
     "name": "stdout",
     "output_type": "stream",
     "text": [
      "[[1, 2, 3], [4, 5, 6], [7, 8, 9]]\n"
     ]
    }
   ],
   "source": [
    "#a) Create a nested list named `matrix` with the following rows:\n",
    "matrix= [\n",
    "    [1, 2, 3],\n",
    "    [4, 5, 6], \n",
    "    [7, 8, 9]\n",
    "]\n",
    "print(matrix)"
   ]
  },
  {
   "cell_type": "code",
   "execution_count": 122,
   "id": "10bdbdf4",
   "metadata": {},
   "outputs": [
    {
     "name": "stdout",
     "output_type": "stream",
     "text": [
      "The element in the second row and third column is : 6\n"
     ]
    }
   ],
   "source": [
    "#b) Print the element in the second row and third column.\n",
    "element = matrix[1][2]\n",
    "print(\"The element in the second row and third column is :\",element)"
   ]
  },
  {
   "cell_type": "code",
   "execution_count": 125,
   "id": "b0656af1",
   "metadata": {},
   "outputs": [
    {
     "name": "stdout",
     "output_type": "stream",
     "text": [
      "The value at the second row and first column is: [[1, 2, 3], [0, 5, 6], [7, 8, 9]]\n"
     ]
    }
   ],
   "source": [
    "#c) Use nested indexing to change the value at the second row and first column to 0.\n",
    "matrix[1][0] = 0\n",
    "print(\"The value at the second row and first column is:\",matrix)"
   ]
  }
 ],
 "metadata": {
  "kernelspec": {
   "display_name": "Python 3 (ipykernel)",
   "language": "python",
   "name": "python3"
  },
  "language_info": {
   "codemirror_mode": {
    "name": "ipython",
    "version": 3
   },
   "file_extension": ".py",
   "mimetype": "text/x-python",
   "name": "python",
   "nbconvert_exporter": "python",
   "pygments_lexer": "ipython3",
   "version": "3.11.3"
  }
 },
 "nbformat": 4,
 "nbformat_minor": 5
}
